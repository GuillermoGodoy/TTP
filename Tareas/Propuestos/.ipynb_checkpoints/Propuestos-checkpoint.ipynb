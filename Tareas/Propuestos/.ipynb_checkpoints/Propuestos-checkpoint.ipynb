{
 "cells": [
  {
   "cell_type": "code",
   "execution_count": null,
   "metadata": {
    "ExecuteTime": {
     "end_time": "2018-11-05T23:45:38.681962Z",
     "start_time": "2018-11-05T23:45:38.045064Z"
    }
   },
   "outputs": [],
   "source": [
    "import json\n",
    "import ipywidgets as w\n",
    "from plotly import graph_objs as go\n",
    "import sympy as sp\n",
    "import numpy as np\n",
    "import numpy.linalg as lg\n",
    "import matplotlib.pyplot as plt\n",
    "import math"
   ]
  }
 ],
 "metadata": {
  "kernelspec": {
   "display_name": "Python 3",
   "language": "python",
   "name": "python3"
  },
  "language_info": {
   "codemirror_mode": {
    "name": "ipython",
    "version": 3
   },
   "file_extension": ".py",
   "mimetype": "text/x-python",
   "name": "python",
   "nbconvert_exporter": "python",
   "pygments_lexer": "ipython3",
   "version": "3.7.1"
  }
 },
 "nbformat": 4,
 "nbformat_minor": 2
}

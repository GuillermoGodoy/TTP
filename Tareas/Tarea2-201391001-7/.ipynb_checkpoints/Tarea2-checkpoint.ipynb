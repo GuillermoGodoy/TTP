{
 "cells": [
  {
   "cell_type": "markdown",
   "metadata": {
    "colab_type": "text",
    "id": "cyHnKzqdeP73"
   },
   "source": [
    "<img src=\"escudo_utfsm.gif\" style=\"float:right;height:100px\">\n",
    "<img src=\"IsotipoDIisocolor.png\" style=\"float:left;height:100px\">\n",
    "<center>\n",
    "    <h1> ILI286 - Computación Científica II</h1>\n",
    "    <h1> Tarea 2: How do planets move? </h1> \n",
    "    <h3> [S]cientific [C]omputing [T]eam 2019</h3>\n",
    "</center>\n",
    "<p>\n",
    "<center>Octubre 2019 - v1.0 </center>\n",
    "</p>\n",
    "\n",
    "---"
   ]
  },
  {
   "cell_type": "code",
   "execution_count": null,
   "metadata": {},
   "outputs": [],
   "source": [
    "import numpy as np\n",
    "import scipy as sp\n",
    "from scipy import linalg\n",
    "import matplotlib.pyplot as plt\n",
    "from mpl_toolkits.mplot3d import Axes3D\n",
    "from matplotlib.animation import FuncAnimation\n",
    "from ipywidgets import interact, interactive, fixed, interact_manual\n",
    "import ipywidgets as widgets"
   ]
  },
  {
   "cell_type": "markdown",
   "metadata": {
    "colab_type": "text",
    "id": "wosjMLgZeP79"
   },
   "source": [
    "## Contexto\n",
    "\n",
    "Ya que la fuerza que ejerce la masa del planeta Tierra hacia el Sol no se compara con la fuerza contraria, es posible modelar nuestra orbita sin tener en cuenta el Sol. Sin embargo existen casos en el que ambas masas son comparables, y en cuyo caso necesitamos analizar ambos cuerpos para poder modelar sus movimientos. Tal es el caso del sistema Alpha Centauri [1], en el cual tres estrellas ejercen fuerzas entre si. También es de interés modelar las interacciones entre átomos de una misma molécula, las cuales se pueden representar de la misma manera como si hablásemos de estrellas. El problema de modelar masas cuya fuerza gravitatoria interactúa entre si es conocido como _N-body Problem_.\n",
    "\n",
    "Usando las ecuaciones de Newton, es posible representar este problema como un sistema de ecuaciones diferenciales ordinarias de la siguiente forma:\n",
    "\n",
    "\\begin{equation}\n",
    "    m_i\\frac{d^2\\mathbf{r}_i}{dt^2}=\\sum_{j=1 \\, j\\neq i}^{n} -G\\,m_i\\,m_j\\frac{\\mathbf{r}_i-\\mathbf{r}_j}{||\\mathbf{r}_i-\\mathbf{r}_j||^3}\n",
    "\\end{equation}\n",
    "\n",
    "donde $i \\in [0,n]$, $\\mathbf{r}_i=(x_i,y_i,z_i)$ es la posición del cuerpo $i$ en un instante $t$, $n$ es el número de cuerpos en el sistema y $G$ es la constante de gravitación universal."
   ]
  },
  {
   "cell_type": "markdown",
   "metadata": {
    "colab_type": "text",
    "id": "ZxTtGo5FXNfa"
   },
   "source": [
    "## Sección 1: Modelo"
   ]
  },
  {
   "cell_type": "markdown",
   "metadata": {},
   "source": [
    "1. Explique como resolver numéricamente el problema presentado usando el método de euler explícito. Muestre todas las ecuaciones que usará."
   ]
  },
  {
   "cell_type": "markdown",
   "metadata": {},
   "source": [
    "2. Implemente una función que permita calcular númericamente los valores de la posición de los cuerpos a través del tiempo usando distintos métodos de resolución de ODE. Su algoritmo debe permitir resolver la ecuación diferencial con los métodos de Euler y Runge Kutta 4. Use la siguiente firma para su función:\n"
   ]
  },
  {
   "cell_type": "code",
   "execution_count": null,
   "metadata": {},
   "outputs": [],
   "source": [
    "'''\n",
    "Input:\n",
    "masses - (array) List of masses of bodies. Its dimension is n\n",
    "pos - (array) List of initial positions of bodies in 3d (x0, y0 and z0). Its dimension is n x 3.\n",
    "vel - (array) List of initial positions of bodies in 3d (x0', y0' and z0'). Its dimension is n x 3.\n",
    "N -  (integer) Number of points in the mesh\n",
    "T - (int) Simulation's lenght\n",
    "method - (string) Euler or RK4\n",
    "Output:\n",
    "y - (array) Array with positions of bodies. Its dimension is T*h x n x 3\n",
    "'''\n",
    "def ode_solver(masses,pos, vel, N, T, method):\n",
    "    G=4.3e-3 # pc*M_s^-1*km^2/s^2\n",
    "    n=masses.size\n",
    "    y = np.zeros((N,n,3))\n",
    "    # Your code goes here!\n",
    "    return y"
   ]
  },
  {
   "cell_type": "markdown",
   "metadata": {},
   "source": [
    "3. Pruebe sus algoritmos para 2, 3 y 4 cuerpos. Concluya respecto a la estabilidad de las orbitas. Use $T=500$ y los siguientes parámetros para probar sus resultados:\n",
    "\n",
    "\n",
    "* Experimento 1\n",
    "\n",
    "| Posiciones | Velocidades  | Masas |\n",
    "|------------|--------------|-------|\n",
    "| (0.5, 0, 0)    | (-0.05, 0, 0.1)    | 1.1     |\n",
    "| (-0.5, 0, 0)   | (0.01, 0.01, 0) | 1.9   |\n",
    "\n",
    "* Experimento 2\n",
    "\n",
    "| Posiciones | Velocidades  | Masas |\n",
    "|------------|--------------|-------|\n",
    "| Posiciones | Velocidades  | Masas |\n",
    "| (0.5, 0, 0)    | (-0.05, 0, 0.1)    | 1.1     |\n",
    "| (-0.5, 0, 0)   | (0.01, 0.01, 0) | 1.9   |\n",
    "| (0, 0.5, 0)    | (0, -0.01, 0)  | 0.9   |\n",
    "\n",
    "* Experimento 3\n",
    "\n",
    "| Posiciones | Velocidades  | Masas |\n",
    "|------------|--------------|-------|\n",
    "| (0.5, 0, 0)    | (-0.05, 0, 0.1)    | 1.1     |\n",
    "| (-0.5, 0, 0)   | (0.01, 0.01, 0) | 1.9   |\n",
    "| (0, 0.5, 0)    | (0, -0.01, 0)  | 0.9   |\n",
    "| (0, -0.5, 0)   | (0, 0.01, 0)   | 2.8   |"
   ]
  },
  {
   "cell_type": "markdown",
   "metadata": {},
   "source": [
    "Pruebe cambiando los parámetros para concluir como afectan el problema. Puede usar el siguiente codigo para la animación de los resultados:"
   ]
  },
  {
   "cell_type": "code",
   "execution_count": null,
   "metadata": {},
   "outputs": [],
   "source": [
    "%matplotlib nbagg\n",
    "\n",
    "fig = plt.figure()\n",
    "ax = plt.axes(xlim=(0, 3), ylim=(-2, 2))\n",
    "line1, = ax.plot([], [])\n",
    "line2, = ax.plot([], [])\n",
    "def init():\n",
    "    line1.set_data([], [])\n",
    "    line2.set_data([], [])\n",
    "    \n",
    "def animate(i):\n",
    "    x = np.linspace(0, i/10, 100)\n",
    "    y1 = np.sin(x)\n",
    "    y2 = np.cos(x)\n",
    "    line1.set_data(x, y1)\n",
    "    line2.set_data(x, y2)\n",
    "    \n",
    "anim = FuncAnimation(fig, animate, init_func=init, frames=31)\n"
   ]
  },
  {
   "cell_type": "markdown",
   "metadata": {},
   "source": [
    "4. Usando su código de la sección anterior, estudie el efecto del parámetro $\\Delta t$. Para esto intente encontrar un $\\Delta t$ de manera que sus soluciones con ambos métodos sean visualmente similares. Para esto puede usar los parámetros de la sección anterior. Concluya respecto a la estabilidad de la solución en función del parámetro $\\Delta t$."
   ]
  },
  {
   "cell_type": "markdown",
   "metadata": {},
   "source": [
    "## Sección 2: Backward Euler"
   ]
  },
  {
   "cell_type": "markdown",
   "metadata": {},
   "source": [
    "El método de Backward Euler (o Euler Implícito) es similar al método clasico de Euler, pero en lugar de aproximar la integral con Riemman por la izquierda, la aproxima con una integral de Riemann por la derecha, es decir:\n",
    "\\begin{equation}\n",
    "    \\mathbf{y}_{i+1}=y_{i}+\\Delta t\\,\\mathbf{f}(t_{i+1},\\mathbf{y}_{i+1}),\n",
    "\\end{equation}\n",
    "por lo que es necesario resolver un problema de búsqueda de ceros multidimensional en cada paso."
   ]
  },
  {
   "cell_type": "markdown",
   "metadata": {},
   "source": [
    "1. Implemente la función adjunta `ode_solver_2` para que permita resolver el problema *n-body* utilizando el método de Backward Euler."
   ]
  },
  {
   "cell_type": "code",
   "execution_count": null,
   "metadata": {},
   "outputs": [],
   "source": [
    "'''\n",
    "Input:\n",
    "masses - (array) List of masses of bodies. Its dimension is n\n",
    "pos - (array) List of initial positions of bodies in 3d (x0, y0 and z0). Its dimension is n x 3.\n",
    "vel - (array) List of initial positions of bodies in 3d (x0', y0' and z0'). Its dimension is n x 3.\n",
    "N -  (integer) Number of points in the mesh\n",
    "T - (int) Simulation's lenght\n",
    "method - (string) Euler, RK4 or BackEuler\n",
    "Output:\n",
    "y - (array) Array with positions of bodies. Its dimension is T*h x n x 3\n",
    "'''\n",
    "def ode_solver_2(masses, pos, vel, N, T, method):\n",
    "    G=4.3e-3 # pc*M_s^-1*km^2/s^2\n",
    "    n=masses.size\n",
    "    y = np.zeros((N,n,3))\n",
    "    \n",
    "    if method == 'BackEuler':\n",
    "        y = np.zeros((N,n,3))\n",
    "        # Your code goes here!\n",
    "        \n",
    "    elif method == \"Euler\" or method == \"RK4\":\n",
    "        # Use the previous solver!\n",
    "        ode_solver(masses, pos, vel, N, T, method)\n",
    "    \n",
    "    return y"
   ]
  },
  {
   "cell_type": "markdown",
   "metadata": {},
   "source": [
    "2. Use un widget para graficar sus resultados con los parámetros entregados en la sección anterior, esta vez solo modificando el valor de $\\Delta t$ para los métodos de Euler, Backward Euler y Runge Kutta 4. Concluya como se modifican sus resultados."
   ]
  },
  {
   "cell_type": "code",
   "execution_count": null,
   "metadata": {},
   "outputs": [],
   "source": [
    "def ode_solver_2_interface(N, T, method):\n",
    "    masses=np.array([1.1,1.9])\n",
    "    pos=np.array([[0.5,0,0],[-0.5,0,0]])\n",
    "    vel=np.array([[-0.05,0,0.01],[0.01,0.01,0]])\n",
    "    y = ode_solver_2(masses, pos, vel, 2**N, T, method)\n",
    "    # Your code and plots goes here!\n",
    "\n",
    "interact_manual(ode_solver_2_interface,N=widgets.IntSlider(min=1, max=20),T=fixed(100),method=[\"Euler\",\"RK4\",\"BackEuler\"])"
   ]
  },
  {
   "cell_type": "markdown",
   "metadata": {},
   "source": [
    "---\n",
    "# Instrucciones:\n",
    "\n",
    "* **Importante, Asegúrese de responder TODO lo que la pregunta pide.**\n",
    "* La estructura de la tarea es la siguiente:\n",
    "     1. Título, nombre de estudiante, email y rol.\n",
    "     2. Responder cada pregunta de forma personal.\n",
    "     5. Referencias. Es muy importante incluir todas las fuentes usadas, de otra forma se considera que lo no se ha citado adecuadamente es su trabajo.\n",
    "* La tarea debe ser realizada en `Jupyter Notebook` (`Python3`) entregado.\n",
    "* Recuerde responder la encuesta en el plazo establecido\n",
    "* Se evaluará la correcta utilización de librerias `NumPy`, `SciPy`, `Matplotlib` y `ipywidgets`, entre otras, así como la **correcta implementación de algoritmos vectorizados**.\n",
    "* **MUY IMPORTANTE** El archivo de entrega debe denominarse TareaN-rol.tar.gz y _notebook_ debe tener como nombre TareaN-rol.ipynb, donde $N$ es el número de la tarea y debe contener un directorio con todos los archivos necesarios para ejecutar el notebook, junto con un archivo README indicando explícitamente las librerías o módulos utilizados, nombre y rol del estudiante. Por cada error en este ambito implicará un descuento de 30 puntos.\n",
    "* El descuento por día de atraso será de $30$ puntos, con un máximo de 1 día de atraso. No se recibirán entregas después de este día.\n",
    "* Debe citar toda fuente de código externo. \n",
    "* El trabajo es personal, no se permite compartir código ni utilizar código de otros, aunque sí se sugiere discutir aspectos generales con sus compañeros.\n",
    "* En caso de sospecha de no cumplimiento de estas instrucciones, se solicitará al involucrado o la involucrada a aclarar la situación. Dependiendo de la justificación se decidirá su calificación, la cual podrá o no ser penalizada.\n",
    "* El no seguir estas instrucciones, implica descuentos en su nota obtenida."
   ]
  },
  {
   "cell_type": "markdown",
   "metadata": {},
   "source": [
    "---\n",
    "\n",
    "# Referencias\n"
   ]
  },
  {
   "cell_type": "markdown",
   "metadata": {},
   "source": [
    "[1] https://es.wikipedia.org/wiki/Alfa_Centauri"
   ]
  }
 ],
 "metadata": {
  "colab": {
   "collapsed_sections": [],
   "name": "Tarea4.ipynb",
   "provenance": [],
   "version": "0.3.2"
  },
  "kernelspec": {
   "display_name": "Python 3",
   "language": "python",
   "name": "python3"
  },
  "language_info": {
   "codemirror_mode": {
    "name": "ipython",
    "version": 3
   },
   "file_extension": ".py",
   "mimetype": "text/x-python",
   "name": "python",
   "nbconvert_exporter": "python",
   "pygments_lexer": "ipython3",
   "version": "3.7.1"
  }
 },
 "nbformat": 4,
 "nbformat_minor": 1
}
